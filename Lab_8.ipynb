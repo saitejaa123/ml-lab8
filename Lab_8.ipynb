{
 "cells": [
  {
   "cell_type": "code",
   "execution_count": 6,
   "id": "7bae575a",
   "metadata": {},
   "outputs": [
    {
     "name": "stdout",
     "output_type": "stream",
     "text": [
      "Found 7295 images belonging to 5 classes.\n",
      "Found 1819 images belonging to 5 classes.\n"
     ]
    }
   ],
   "source": [
    "import tensorflow as tf\n",
    "from tensorflow.keras.preprocessing.image import ImageDataGenerator\n",
    "from tensorflow.keras.applications import VGG16\n",
    "from tensorflow.keras.models import Model\n",
    "import numpy as np\n",
    "\n",
    "img_size = (224, 224)\n",
    "batch_size = 32\n",
    "\n",
    "datagen = ImageDataGenerator(rescale=1./255, validation_split=0.2)\n",
    "\n",
    "train_data = datagen.flow_from_directory(\n",
    "    \"defungi\",                  # path to dataset\n",
    "    target_size=img_size,\n",
    "    batch_size=batch_size,\n",
    "    class_mode=\"categorical\",\n",
    "    subset=\"training\",\n",
    "    shuffle=True\n",
    ")\n",
    "\n",
    "val_data = datagen.flow_from_directory(\n",
    "    \"defungi\",\n",
    "    target_size=img_size,\n",
    "    batch_size=batch_size,\n",
    "    class_mode=\"categorical\",\n",
    "    subset=\"validation\",\n",
    "    shuffle=False\n",
    ")\n"
   ]
  },
  {
   "cell_type": "code",
   "execution_count": 7,
   "id": "f9428710",
   "metadata": {},
   "outputs": [
    {
     "name": "stdout",
     "output_type": "stream",
     "text": [
      "Downloading data from https://storage.googleapis.com/tensorflow/keras-applications/vgg16/vgg16_weights_tf_dim_ordering_tf_kernels_notop.h5\n",
      "\u001b[1m58889256/58889256\u001b[0m \u001b[32m━━━━━━━━━━━━━━━━━━━━\u001b[0m\u001b[37m\u001b[0m \u001b[1m12s\u001b[0m 0us/step\n"
     ]
    },
    {
     "data": {
      "text/html": [
       "<pre style=\"white-space:pre;overflow-x:auto;line-height:normal;font-family:Menlo,'DejaVu Sans Mono',consolas,'Courier New',monospace\"><span style=\"font-weight: bold\">Model: \"functional\"</span>\n",
       "</pre>\n"
      ],
      "text/plain": [
       "\u001b[1mModel: \"functional\"\u001b[0m\n"
      ]
     },
     "metadata": {},
     "output_type": "display_data"
    },
    {
     "data": {
      "text/html": [
       "<pre style=\"white-space:pre;overflow-x:auto;line-height:normal;font-family:Menlo,'DejaVu Sans Mono',consolas,'Courier New',monospace\">┏━━━━━━━━━━━━━━━━━━━━━━━━━━━━━━━━━┳━━━━━━━━━━━━━━━━━━━━━━━━┳━━━━━━━━━━━━━━━┓\n",
       "┃<span style=\"font-weight: bold\"> Layer (type)                    </span>┃<span style=\"font-weight: bold\"> Output Shape           </span>┃<span style=\"font-weight: bold\">       Param # </span>┃\n",
       "┡━━━━━━━━━━━━━━━━━━━━━━━━━━━━━━━━━╇━━━━━━━━━━━━━━━━━━━━━━━━╇━━━━━━━━━━━━━━━┩\n",
       "│ input_layer (<span style=\"color: #0087ff; text-decoration-color: #0087ff\">InputLayer</span>)        │ (<span style=\"color: #00d7ff; text-decoration-color: #00d7ff\">None</span>, <span style=\"color: #00af00; text-decoration-color: #00af00\">224</span>, <span style=\"color: #00af00; text-decoration-color: #00af00\">224</span>, <span style=\"color: #00af00; text-decoration-color: #00af00\">3</span>)    │             <span style=\"color: #00af00; text-decoration-color: #00af00\">0</span> │\n",
       "├─────────────────────────────────┼────────────────────────┼───────────────┤\n",
       "│ block1_conv1 (<span style=\"color: #0087ff; text-decoration-color: #0087ff\">Conv2D</span>)           │ (<span style=\"color: #00d7ff; text-decoration-color: #00d7ff\">None</span>, <span style=\"color: #00af00; text-decoration-color: #00af00\">224</span>, <span style=\"color: #00af00; text-decoration-color: #00af00\">224</span>, <span style=\"color: #00af00; text-decoration-color: #00af00\">64</span>)   │         <span style=\"color: #00af00; text-decoration-color: #00af00\">1,792</span> │\n",
       "├─────────────────────────────────┼────────────────────────┼───────────────┤\n",
       "│ block1_conv2 (<span style=\"color: #0087ff; text-decoration-color: #0087ff\">Conv2D</span>)           │ (<span style=\"color: #00d7ff; text-decoration-color: #00d7ff\">None</span>, <span style=\"color: #00af00; text-decoration-color: #00af00\">224</span>, <span style=\"color: #00af00; text-decoration-color: #00af00\">224</span>, <span style=\"color: #00af00; text-decoration-color: #00af00\">64</span>)   │        <span style=\"color: #00af00; text-decoration-color: #00af00\">36,928</span> │\n",
       "├─────────────────────────────────┼────────────────────────┼───────────────┤\n",
       "│ block1_pool (<span style=\"color: #0087ff; text-decoration-color: #0087ff\">MaxPooling2D</span>)      │ (<span style=\"color: #00d7ff; text-decoration-color: #00d7ff\">None</span>, <span style=\"color: #00af00; text-decoration-color: #00af00\">112</span>, <span style=\"color: #00af00; text-decoration-color: #00af00\">112</span>, <span style=\"color: #00af00; text-decoration-color: #00af00\">64</span>)   │             <span style=\"color: #00af00; text-decoration-color: #00af00\">0</span> │\n",
       "├─────────────────────────────────┼────────────────────────┼───────────────┤\n",
       "│ block2_conv1 (<span style=\"color: #0087ff; text-decoration-color: #0087ff\">Conv2D</span>)           │ (<span style=\"color: #00d7ff; text-decoration-color: #00d7ff\">None</span>, <span style=\"color: #00af00; text-decoration-color: #00af00\">112</span>, <span style=\"color: #00af00; text-decoration-color: #00af00\">112</span>, <span style=\"color: #00af00; text-decoration-color: #00af00\">128</span>)  │        <span style=\"color: #00af00; text-decoration-color: #00af00\">73,856</span> │\n",
       "├─────────────────────────────────┼────────────────────────┼───────────────┤\n",
       "│ block2_conv2 (<span style=\"color: #0087ff; text-decoration-color: #0087ff\">Conv2D</span>)           │ (<span style=\"color: #00d7ff; text-decoration-color: #00d7ff\">None</span>, <span style=\"color: #00af00; text-decoration-color: #00af00\">112</span>, <span style=\"color: #00af00; text-decoration-color: #00af00\">112</span>, <span style=\"color: #00af00; text-decoration-color: #00af00\">128</span>)  │       <span style=\"color: #00af00; text-decoration-color: #00af00\">147,584</span> │\n",
       "├─────────────────────────────────┼────────────────────────┼───────────────┤\n",
       "│ block2_pool (<span style=\"color: #0087ff; text-decoration-color: #0087ff\">MaxPooling2D</span>)      │ (<span style=\"color: #00d7ff; text-decoration-color: #00d7ff\">None</span>, <span style=\"color: #00af00; text-decoration-color: #00af00\">56</span>, <span style=\"color: #00af00; text-decoration-color: #00af00\">56</span>, <span style=\"color: #00af00; text-decoration-color: #00af00\">128</span>)    │             <span style=\"color: #00af00; text-decoration-color: #00af00\">0</span> │\n",
       "├─────────────────────────────────┼────────────────────────┼───────────────┤\n",
       "│ block3_conv1 (<span style=\"color: #0087ff; text-decoration-color: #0087ff\">Conv2D</span>)           │ (<span style=\"color: #00d7ff; text-decoration-color: #00d7ff\">None</span>, <span style=\"color: #00af00; text-decoration-color: #00af00\">56</span>, <span style=\"color: #00af00; text-decoration-color: #00af00\">56</span>, <span style=\"color: #00af00; text-decoration-color: #00af00\">256</span>)    │       <span style=\"color: #00af00; text-decoration-color: #00af00\">295,168</span> │\n",
       "├─────────────────────────────────┼────────────────────────┼───────────────┤\n",
       "│ block3_conv2 (<span style=\"color: #0087ff; text-decoration-color: #0087ff\">Conv2D</span>)           │ (<span style=\"color: #00d7ff; text-decoration-color: #00d7ff\">None</span>, <span style=\"color: #00af00; text-decoration-color: #00af00\">56</span>, <span style=\"color: #00af00; text-decoration-color: #00af00\">56</span>, <span style=\"color: #00af00; text-decoration-color: #00af00\">256</span>)    │       <span style=\"color: #00af00; text-decoration-color: #00af00\">590,080</span> │\n",
       "├─────────────────────────────────┼────────────────────────┼───────────────┤\n",
       "│ block3_conv3 (<span style=\"color: #0087ff; text-decoration-color: #0087ff\">Conv2D</span>)           │ (<span style=\"color: #00d7ff; text-decoration-color: #00d7ff\">None</span>, <span style=\"color: #00af00; text-decoration-color: #00af00\">56</span>, <span style=\"color: #00af00; text-decoration-color: #00af00\">56</span>, <span style=\"color: #00af00; text-decoration-color: #00af00\">256</span>)    │       <span style=\"color: #00af00; text-decoration-color: #00af00\">590,080</span> │\n",
       "├─────────────────────────────────┼────────────────────────┼───────────────┤\n",
       "│ block3_pool (<span style=\"color: #0087ff; text-decoration-color: #0087ff\">MaxPooling2D</span>)      │ (<span style=\"color: #00d7ff; text-decoration-color: #00d7ff\">None</span>, <span style=\"color: #00af00; text-decoration-color: #00af00\">28</span>, <span style=\"color: #00af00; text-decoration-color: #00af00\">28</span>, <span style=\"color: #00af00; text-decoration-color: #00af00\">256</span>)    │             <span style=\"color: #00af00; text-decoration-color: #00af00\">0</span> │\n",
       "├─────────────────────────────────┼────────────────────────┼───────────────┤\n",
       "│ block4_conv1 (<span style=\"color: #0087ff; text-decoration-color: #0087ff\">Conv2D</span>)           │ (<span style=\"color: #00d7ff; text-decoration-color: #00d7ff\">None</span>, <span style=\"color: #00af00; text-decoration-color: #00af00\">28</span>, <span style=\"color: #00af00; text-decoration-color: #00af00\">28</span>, <span style=\"color: #00af00; text-decoration-color: #00af00\">512</span>)    │     <span style=\"color: #00af00; text-decoration-color: #00af00\">1,180,160</span> │\n",
       "├─────────────────────────────────┼────────────────────────┼───────────────┤\n",
       "│ block4_conv2 (<span style=\"color: #0087ff; text-decoration-color: #0087ff\">Conv2D</span>)           │ (<span style=\"color: #00d7ff; text-decoration-color: #00d7ff\">None</span>, <span style=\"color: #00af00; text-decoration-color: #00af00\">28</span>, <span style=\"color: #00af00; text-decoration-color: #00af00\">28</span>, <span style=\"color: #00af00; text-decoration-color: #00af00\">512</span>)    │     <span style=\"color: #00af00; text-decoration-color: #00af00\">2,359,808</span> │\n",
       "├─────────────────────────────────┼────────────────────────┼───────────────┤\n",
       "│ block4_conv3 (<span style=\"color: #0087ff; text-decoration-color: #0087ff\">Conv2D</span>)           │ (<span style=\"color: #00d7ff; text-decoration-color: #00d7ff\">None</span>, <span style=\"color: #00af00; text-decoration-color: #00af00\">28</span>, <span style=\"color: #00af00; text-decoration-color: #00af00\">28</span>, <span style=\"color: #00af00; text-decoration-color: #00af00\">512</span>)    │     <span style=\"color: #00af00; text-decoration-color: #00af00\">2,359,808</span> │\n",
       "├─────────────────────────────────┼────────────────────────┼───────────────┤\n",
       "│ block4_pool (<span style=\"color: #0087ff; text-decoration-color: #0087ff\">MaxPooling2D</span>)      │ (<span style=\"color: #00d7ff; text-decoration-color: #00d7ff\">None</span>, <span style=\"color: #00af00; text-decoration-color: #00af00\">14</span>, <span style=\"color: #00af00; text-decoration-color: #00af00\">14</span>, <span style=\"color: #00af00; text-decoration-color: #00af00\">512</span>)    │             <span style=\"color: #00af00; text-decoration-color: #00af00\">0</span> │\n",
       "├─────────────────────────────────┼────────────────────────┼───────────────┤\n",
       "│ block5_conv1 (<span style=\"color: #0087ff; text-decoration-color: #0087ff\">Conv2D</span>)           │ (<span style=\"color: #00d7ff; text-decoration-color: #00d7ff\">None</span>, <span style=\"color: #00af00; text-decoration-color: #00af00\">14</span>, <span style=\"color: #00af00; text-decoration-color: #00af00\">14</span>, <span style=\"color: #00af00; text-decoration-color: #00af00\">512</span>)    │     <span style=\"color: #00af00; text-decoration-color: #00af00\">2,359,808</span> │\n",
       "├─────────────────────────────────┼────────────────────────┼───────────────┤\n",
       "│ block5_conv2 (<span style=\"color: #0087ff; text-decoration-color: #0087ff\">Conv2D</span>)           │ (<span style=\"color: #00d7ff; text-decoration-color: #00d7ff\">None</span>, <span style=\"color: #00af00; text-decoration-color: #00af00\">14</span>, <span style=\"color: #00af00; text-decoration-color: #00af00\">14</span>, <span style=\"color: #00af00; text-decoration-color: #00af00\">512</span>)    │     <span style=\"color: #00af00; text-decoration-color: #00af00\">2,359,808</span> │\n",
       "├─────────────────────────────────┼────────────────────────┼───────────────┤\n",
       "│ block5_conv3 (<span style=\"color: #0087ff; text-decoration-color: #0087ff\">Conv2D</span>)           │ (<span style=\"color: #00d7ff; text-decoration-color: #00d7ff\">None</span>, <span style=\"color: #00af00; text-decoration-color: #00af00\">14</span>, <span style=\"color: #00af00; text-decoration-color: #00af00\">14</span>, <span style=\"color: #00af00; text-decoration-color: #00af00\">512</span>)    │     <span style=\"color: #00af00; text-decoration-color: #00af00\">2,359,808</span> │\n",
       "├─────────────────────────────────┼────────────────────────┼───────────────┤\n",
       "│ block5_pool (<span style=\"color: #0087ff; text-decoration-color: #0087ff\">MaxPooling2D</span>)      │ (<span style=\"color: #00d7ff; text-decoration-color: #00d7ff\">None</span>, <span style=\"color: #00af00; text-decoration-color: #00af00\">7</span>, <span style=\"color: #00af00; text-decoration-color: #00af00\">7</span>, <span style=\"color: #00af00; text-decoration-color: #00af00\">512</span>)      │             <span style=\"color: #00af00; text-decoration-color: #00af00\">0</span> │\n",
       "├─────────────────────────────────┼────────────────────────┼───────────────┤\n",
       "│ global_average_pooling2d        │ (<span style=\"color: #00d7ff; text-decoration-color: #00d7ff\">None</span>, <span style=\"color: #00af00; text-decoration-color: #00af00\">512</span>)            │             <span style=\"color: #00af00; text-decoration-color: #00af00\">0</span> │\n",
       "│ (<span style=\"color: #0087ff; text-decoration-color: #0087ff\">GlobalAveragePooling2D</span>)        │                        │               │\n",
       "└─────────────────────────────────┴────────────────────────┴───────────────┘\n",
       "</pre>\n"
      ],
      "text/plain": [
       "┏━━━━━━━━━━━━━━━━━━━━━━━━━━━━━━━━━┳━━━━━━━━━━━━━━━━━━━━━━━━┳━━━━━━━━━━━━━━━┓\n",
       "┃\u001b[1m \u001b[0m\u001b[1mLayer (type)                   \u001b[0m\u001b[1m \u001b[0m┃\u001b[1m \u001b[0m\u001b[1mOutput Shape          \u001b[0m\u001b[1m \u001b[0m┃\u001b[1m \u001b[0m\u001b[1m      Param #\u001b[0m\u001b[1m \u001b[0m┃\n",
       "┡━━━━━━━━━━━━━━━━━━━━━━━━━━━━━━━━━╇━━━━━━━━━━━━━━━━━━━━━━━━╇━━━━━━━━━━━━━━━┩\n",
       "│ input_layer (\u001b[38;5;33mInputLayer\u001b[0m)        │ (\u001b[38;5;45mNone\u001b[0m, \u001b[38;5;34m224\u001b[0m, \u001b[38;5;34m224\u001b[0m, \u001b[38;5;34m3\u001b[0m)    │             \u001b[38;5;34m0\u001b[0m │\n",
       "├─────────────────────────────────┼────────────────────────┼───────────────┤\n",
       "│ block1_conv1 (\u001b[38;5;33mConv2D\u001b[0m)           │ (\u001b[38;5;45mNone\u001b[0m, \u001b[38;5;34m224\u001b[0m, \u001b[38;5;34m224\u001b[0m, \u001b[38;5;34m64\u001b[0m)   │         \u001b[38;5;34m1,792\u001b[0m │\n",
       "├─────────────────────────────────┼────────────────────────┼───────────────┤\n",
       "│ block1_conv2 (\u001b[38;5;33mConv2D\u001b[0m)           │ (\u001b[38;5;45mNone\u001b[0m, \u001b[38;5;34m224\u001b[0m, \u001b[38;5;34m224\u001b[0m, \u001b[38;5;34m64\u001b[0m)   │        \u001b[38;5;34m36,928\u001b[0m │\n",
       "├─────────────────────────────────┼────────────────────────┼───────────────┤\n",
       "│ block1_pool (\u001b[38;5;33mMaxPooling2D\u001b[0m)      │ (\u001b[38;5;45mNone\u001b[0m, \u001b[38;5;34m112\u001b[0m, \u001b[38;5;34m112\u001b[0m, \u001b[38;5;34m64\u001b[0m)   │             \u001b[38;5;34m0\u001b[0m │\n",
       "├─────────────────────────────────┼────────────────────────┼───────────────┤\n",
       "│ block2_conv1 (\u001b[38;5;33mConv2D\u001b[0m)           │ (\u001b[38;5;45mNone\u001b[0m, \u001b[38;5;34m112\u001b[0m, \u001b[38;5;34m112\u001b[0m, \u001b[38;5;34m128\u001b[0m)  │        \u001b[38;5;34m73,856\u001b[0m │\n",
       "├─────────────────────────────────┼────────────────────────┼───────────────┤\n",
       "│ block2_conv2 (\u001b[38;5;33mConv2D\u001b[0m)           │ (\u001b[38;5;45mNone\u001b[0m, \u001b[38;5;34m112\u001b[0m, \u001b[38;5;34m112\u001b[0m, \u001b[38;5;34m128\u001b[0m)  │       \u001b[38;5;34m147,584\u001b[0m │\n",
       "├─────────────────────────────────┼────────────────────────┼───────────────┤\n",
       "│ block2_pool (\u001b[38;5;33mMaxPooling2D\u001b[0m)      │ (\u001b[38;5;45mNone\u001b[0m, \u001b[38;5;34m56\u001b[0m, \u001b[38;5;34m56\u001b[0m, \u001b[38;5;34m128\u001b[0m)    │             \u001b[38;5;34m0\u001b[0m │\n",
       "├─────────────────────────────────┼────────────────────────┼───────────────┤\n",
       "│ block3_conv1 (\u001b[38;5;33mConv2D\u001b[0m)           │ (\u001b[38;5;45mNone\u001b[0m, \u001b[38;5;34m56\u001b[0m, \u001b[38;5;34m56\u001b[0m, \u001b[38;5;34m256\u001b[0m)    │       \u001b[38;5;34m295,168\u001b[0m │\n",
       "├─────────────────────────────────┼────────────────────────┼───────────────┤\n",
       "│ block3_conv2 (\u001b[38;5;33mConv2D\u001b[0m)           │ (\u001b[38;5;45mNone\u001b[0m, \u001b[38;5;34m56\u001b[0m, \u001b[38;5;34m56\u001b[0m, \u001b[38;5;34m256\u001b[0m)    │       \u001b[38;5;34m590,080\u001b[0m │\n",
       "├─────────────────────────────────┼────────────────────────┼───────────────┤\n",
       "│ block3_conv3 (\u001b[38;5;33mConv2D\u001b[0m)           │ (\u001b[38;5;45mNone\u001b[0m, \u001b[38;5;34m56\u001b[0m, \u001b[38;5;34m56\u001b[0m, \u001b[38;5;34m256\u001b[0m)    │       \u001b[38;5;34m590,080\u001b[0m │\n",
       "├─────────────────────────────────┼────────────────────────┼───────────────┤\n",
       "│ block3_pool (\u001b[38;5;33mMaxPooling2D\u001b[0m)      │ (\u001b[38;5;45mNone\u001b[0m, \u001b[38;5;34m28\u001b[0m, \u001b[38;5;34m28\u001b[0m, \u001b[38;5;34m256\u001b[0m)    │             \u001b[38;5;34m0\u001b[0m │\n",
       "├─────────────────────────────────┼────────────────────────┼───────────────┤\n",
       "│ block4_conv1 (\u001b[38;5;33mConv2D\u001b[0m)           │ (\u001b[38;5;45mNone\u001b[0m, \u001b[38;5;34m28\u001b[0m, \u001b[38;5;34m28\u001b[0m, \u001b[38;5;34m512\u001b[0m)    │     \u001b[38;5;34m1,180,160\u001b[0m │\n",
       "├─────────────────────────────────┼────────────────────────┼───────────────┤\n",
       "│ block4_conv2 (\u001b[38;5;33mConv2D\u001b[0m)           │ (\u001b[38;5;45mNone\u001b[0m, \u001b[38;5;34m28\u001b[0m, \u001b[38;5;34m28\u001b[0m, \u001b[38;5;34m512\u001b[0m)    │     \u001b[38;5;34m2,359,808\u001b[0m │\n",
       "├─────────────────────────────────┼────────────────────────┼───────────────┤\n",
       "│ block4_conv3 (\u001b[38;5;33mConv2D\u001b[0m)           │ (\u001b[38;5;45mNone\u001b[0m, \u001b[38;5;34m28\u001b[0m, \u001b[38;5;34m28\u001b[0m, \u001b[38;5;34m512\u001b[0m)    │     \u001b[38;5;34m2,359,808\u001b[0m │\n",
       "├─────────────────────────────────┼────────────────────────┼───────────────┤\n",
       "│ block4_pool (\u001b[38;5;33mMaxPooling2D\u001b[0m)      │ (\u001b[38;5;45mNone\u001b[0m, \u001b[38;5;34m14\u001b[0m, \u001b[38;5;34m14\u001b[0m, \u001b[38;5;34m512\u001b[0m)    │             \u001b[38;5;34m0\u001b[0m │\n",
       "├─────────────────────────────────┼────────────────────────┼───────────────┤\n",
       "│ block5_conv1 (\u001b[38;5;33mConv2D\u001b[0m)           │ (\u001b[38;5;45mNone\u001b[0m, \u001b[38;5;34m14\u001b[0m, \u001b[38;5;34m14\u001b[0m, \u001b[38;5;34m512\u001b[0m)    │     \u001b[38;5;34m2,359,808\u001b[0m │\n",
       "├─────────────────────────────────┼────────────────────────┼───────────────┤\n",
       "│ block5_conv2 (\u001b[38;5;33mConv2D\u001b[0m)           │ (\u001b[38;5;45mNone\u001b[0m, \u001b[38;5;34m14\u001b[0m, \u001b[38;5;34m14\u001b[0m, \u001b[38;5;34m512\u001b[0m)    │     \u001b[38;5;34m2,359,808\u001b[0m │\n",
       "├─────────────────────────────────┼────────────────────────┼───────────────┤\n",
       "│ block5_conv3 (\u001b[38;5;33mConv2D\u001b[0m)           │ (\u001b[38;5;45mNone\u001b[0m, \u001b[38;5;34m14\u001b[0m, \u001b[38;5;34m14\u001b[0m, \u001b[38;5;34m512\u001b[0m)    │     \u001b[38;5;34m2,359,808\u001b[0m │\n",
       "├─────────────────────────────────┼────────────────────────┼───────────────┤\n",
       "│ block5_pool (\u001b[38;5;33mMaxPooling2D\u001b[0m)      │ (\u001b[38;5;45mNone\u001b[0m, \u001b[38;5;34m7\u001b[0m, \u001b[38;5;34m7\u001b[0m, \u001b[38;5;34m512\u001b[0m)      │             \u001b[38;5;34m0\u001b[0m │\n",
       "├─────────────────────────────────┼────────────────────────┼───────────────┤\n",
       "│ global_average_pooling2d        │ (\u001b[38;5;45mNone\u001b[0m, \u001b[38;5;34m512\u001b[0m)            │             \u001b[38;5;34m0\u001b[0m │\n",
       "│ (\u001b[38;5;33mGlobalAveragePooling2D\u001b[0m)        │                        │               │\n",
       "└─────────────────────────────────┴────────────────────────┴───────────────┘\n"
      ]
     },
     "metadata": {},
     "output_type": "display_data"
    },
    {
     "data": {
      "text/html": [
       "<pre style=\"white-space:pre;overflow-x:auto;line-height:normal;font-family:Menlo,'DejaVu Sans Mono',consolas,'Courier New',monospace\"><span style=\"font-weight: bold\"> Total params: </span><span style=\"color: #00af00; text-decoration-color: #00af00\">14,714,688</span> (56.13 MB)\n",
       "</pre>\n"
      ],
      "text/plain": [
       "\u001b[1m Total params: \u001b[0m\u001b[38;5;34m14,714,688\u001b[0m (56.13 MB)\n"
      ]
     },
     "metadata": {},
     "output_type": "display_data"
    },
    {
     "data": {
      "text/html": [
       "<pre style=\"white-space:pre;overflow-x:auto;line-height:normal;font-family:Menlo,'DejaVu Sans Mono',consolas,'Courier New',monospace\"><span style=\"font-weight: bold\"> Trainable params: </span><span style=\"color: #00af00; text-decoration-color: #00af00\">0</span> (0.00 B)\n",
       "</pre>\n"
      ],
      "text/plain": [
       "\u001b[1m Trainable params: \u001b[0m\u001b[38;5;34m0\u001b[0m (0.00 B)\n"
      ]
     },
     "metadata": {},
     "output_type": "display_data"
    },
    {
     "data": {
      "text/html": [
       "<pre style=\"white-space:pre;overflow-x:auto;line-height:normal;font-family:Menlo,'DejaVu Sans Mono',consolas,'Courier New',monospace\"><span style=\"font-weight: bold\"> Non-trainable params: </span><span style=\"color: #00af00; text-decoration-color: #00af00\">14,714,688</span> (56.13 MB)\n",
       "</pre>\n"
      ],
      "text/plain": [
       "\u001b[1m Non-trainable params: \u001b[0m\u001b[38;5;34m14,714,688\u001b[0m (56.13 MB)\n"
      ]
     },
     "metadata": {},
     "output_type": "display_data"
    }
   ],
   "source": [
    "base_model = VGG16(weights=\"imagenet\", include_top=False, input_shape=(224,224,3))\n",
    "\n",
    "# Add Global Average Pooling to flatten feature maps\n",
    "x = tf.keras.layers.GlobalAveragePooling2D()(base_model.output)\n",
    "feature_model = Model(inputs=base_model.input, outputs=x)\n",
    "\n",
    "# Freeze base VGG16 weights\n",
    "for layer in base_model.layers:\n",
    "    layer.trainable = False\n",
    "\n",
    "feature_model.summary()  # optional: shows model architecture\n"
   ]
  },
  {
   "cell_type": "code",
   "execution_count": 8,
   "id": "5df0a287",
   "metadata": {},
   "outputs": [
    {
     "name": "stderr",
     "output_type": "stream",
     "text": [
      "c:\\Users\\sahit\\AppData\\Local\\Programs\\Python\\Python313\\Lib\\site-packages\\keras\\src\\trainers\\data_adapters\\py_dataset_adapter.py:121: UserWarning: Your `PyDataset` class should call `super().__init__(**kwargs)` in its constructor. `**kwargs` can include `workers`, `use_multiprocessing`, `max_queue_size`. Do not pass these arguments to `fit()`, as they will be ignored.\n",
      "  self._warn_if_super_not_called()\n"
     ]
    },
    {
     "name": "stdout",
     "output_type": "stream",
     "text": [
      "\u001b[1m228/228\u001b[0m \u001b[32m━━━━━━━━━━━━━━━━━━━━\u001b[0m\u001b[37m\u001b[0m \u001b[1m1171s\u001b[0m 5s/step\n",
      "\u001b[1m57/57\u001b[0m \u001b[32m━━━━━━━━━━━━━━━━━━━━\u001b[0m\u001b[37m\u001b[0m \u001b[1m333s\u001b[0m 6s/step\n",
      "✅ Train features shape: (7295, 512)\n",
      "✅ Validation features shape: (1819, 512)\n",
      "✅ Classes: ['H1', 'H2', 'H3', 'H5', 'H6']\n"
     ]
    }
   ],
   "source": [
    "# Extract features from images\n",
    "train_features = feature_model.predict(train_data, verbose=1)\n",
    "val_features = feature_model.predict(val_data, verbose=1)\n",
    "\n",
    "# Store labels\n",
    "y_train = train_data.classes\n",
    "y_val = val_data.classes\n",
    "class_names = list(train_data.class_indices.keys())\n",
    "\n",
    "print(\"✅ Train features shape:\", train_features.shape)\n",
    "print(\"✅ Validation features shape:\", val_features.shape)\n",
    "print(\"✅ Classes:\", class_names)\n"
   ]
  },
  {
   "cell_type": "code",
   "execution_count": 9,
   "id": "41b052f2",
   "metadata": {},
   "outputs": [
    {
     "name": "stdout",
     "output_type": "stream",
     "text": [
      "✅ Combined features saved as 'features_vgg16_full.csv'\n"
     ]
    }
   ],
   "source": [
    "import numpy as np\n",
    "import pandas as pd\n",
    "\n",
    "# Flatten features\n",
    "train_features_flat = train_features.reshape(train_features.shape[0], -1)\n",
    "val_features_flat = val_features.reshape(val_features.shape[0], -1)\n",
    "\n",
    "# Create DataFrames with labels and split column\n",
    "train_df = pd.DataFrame(train_features_flat)\n",
    "train_df['label'] = y_train\n",
    "train_df['split'] = 'train'\n",
    "\n",
    "val_df = pd.DataFrame(val_features_flat)\n",
    "val_df['label'] = y_val\n",
    "val_df['split'] = 'val'\n",
    "\n",
    "# Concatenate train and validation\n",
    "full_df = pd.concat([train_df, val_df], ignore_index=True)\n",
    "\n",
    "# Save to a single CSV\n",
    "full_df.to_csv(\"features_vgg16_full.csv\", index=False)\n",
    "\n",
    "print(\"✅ Combined features saved as 'features_vgg16_full.csv'\")\n"
   ]
  },
  {
   "cell_type": "code",
   "execution_count": 10,
   "id": "dc4ecd87",
   "metadata": {},
   "outputs": [],
   "source": [
    "import numpy as np\n",
    "\n",
    "# Summation\n",
    "def summation(x, w):\n",
    "    return np.dot(w, x)\n",
    "\n",
    "# Activations\n",
    "def step_activation(x):\n",
    "    return 1.0 if x >= 0 else 0.0\n",
    "\n",
    "def bipolar_step_activation(x):\n",
    "    return 1.0 if x >= 0 else -1.0\n",
    "\n",
    "def sigmoid_activation(x):\n",
    "    return 1.0/(1.0 + np.exp(-x))\n",
    "\n",
    "def relu_activation(x):\n",
    "    return x if x > 0 else 0.0\n",
    "\n",
    "# SSE\n",
    "def sse(targets, outputs):\n",
    "    return 0.5 * np.sum((targets - outputs)**2)\n"
   ]
  },
  {
   "cell_type": "code",
   "execution_count": 11,
   "id": "85f67279",
   "metadata": {},
   "outputs": [
    {
     "name": "stdout",
     "output_type": "stream",
     "text": [
      "step epochs: 130 converged: True final weights: [-0.1   0.1   0.05]\n",
      "bipolar epochs: 68 converged: True final weights: [-0.3   0.2   0.15]\n",
      "sigmoid epochs: 1000 converged: False final weights: [ 9.99101457  0.1981319  -0.75483714]\n",
      "relu epochs: 1000 converged: False final weights: [ 2.67803548e-22 -2.32873270e+00 -2.87256355e+00]\n"
     ]
    }
   ],
   "source": [
    "import numpy as np\n",
    "\n",
    "# Training function\n",
    "def train_perceptron(X, y, w_init, lr=0.05, activation='step', max_epochs=1000, tol=0.002):\n",
    "    def summation(x, w): return np.dot(w, x)\n",
    "    def step(x): return 1 if x>=0 else 0\n",
    "    def bipolar(x): return 1 if x>=0 else -1\n",
    "    def sigmoid(x): return 1/(1+np.exp(-x))\n",
    "    def relu(x): return x if x>0 else 0\n",
    "    def sse(t,o): return 0.5*np.sum((t-o)**2)\n",
    "\n",
    "    N,d = X.shape\n",
    "    Xb = np.hstack([np.ones((N,1)), X])\n",
    "    w = w_init.copy()\n",
    "    sse_hist=[]\n",
    "    for epoch in range(1,max_epochs+1):\n",
    "        outputs=[]\n",
    "        for i in range(N):\n",
    "            net = summation(Xb[i], w)\n",
    "            if activation=='step':\n",
    "                out = step(net); error = y[i]-out; w += lr*error*Xb[i]\n",
    "            elif activation=='bipolar':\n",
    "                out = bipolar(net); yi = 1 if y[i]==1 else -1; error = yi-out; w += lr*error*Xb[i]\n",
    "            elif activation=='sigmoid':\n",
    "                out = sigmoid(net); error = y[i]-out; w += lr*error*out*(1-out)*Xb[i]\n",
    "            elif activation=='relu':\n",
    "                out = relu(net); error = y[i]-out; grad = 1 if net>0 else 0; w += lr*error*grad*Xb[i]\n",
    "            outputs.append(out)\n",
    "        mapped = (np.array(outputs)+1)/2 if activation=='bipolar' else np.array(outputs)\n",
    "        curr = sse(y,mapped); sse_hist.append(curr)\n",
    "        if curr<=tol: return w,sse_hist,epoch,True\n",
    "    return w,sse_hist,epoch,False\n",
    "\n",
    "# AND dataset\n",
    "X_and = np.array([[0,0],[0,1],[1,0],[1,1]])\n",
    "y_and = np.array([0,0,0,1])\n",
    "w_init = np.array([10.0,0.2,-0.75])\n",
    "\n",
    "# Try different activations\n",
    "for act in ['step','bipolar','sigmoid','relu']:\n",
    "    w,hist,ep,conv = train_perceptron(X_and,y_and,w_init,lr=0.05,activation=act)\n",
    "    print(act, \"epochs:\",ep,\"converged:\",conv,\"final weights:\",w)\n"
   ]
  },
  {
   "cell_type": "code",
   "execution_count": 12,
   "id": "b92a6ce5",
   "metadata": {},
   "outputs": [
    {
     "data": {
      "image/png": "[encoded data removed]",
      "text/plain": [
       "<Figure size 640x480 with 1 Axes>"
      ]
     },
     "metadata": {},
     "output_type": "display_data"
    }
   ],
   "source": [
    "import matplotlib.pyplot as plt\n",
    "\n",
    "# Using results from Q2\n",
    "for act in ['step','bipolar','sigmoid','relu']:\n",
    "    _, hist, _, _ = train_perceptron(X_and,y_and,w_init,lr=0.05,activation=act)\n",
    "    plt.plot(hist,label=act)\n",
    "\n",
    "plt.xlabel(\"Epochs\")\n",
    "plt.ylabel(\"SSE\")\n",
    "plt.title(\"AND Gate: Epochs vs SSE\")\n",
    "plt.legend()\n",
    "plt.show()\n"
   ]
  },
  {
   "cell_type": "code",
   "execution_count": 13,
   "id": "f6646a37",
   "metadata": {},
   "outputs": [
    {
     "name": "stdout",
     "output_type": "stream",
     "text": [
      "    lr  epochs  converged\n",
      "0  0.1      68       True\n",
      "1  0.2      37       True\n",
      "2  0.3      23       True\n",
      "3  0.4      23       True\n",
      "4  0.5      19       True\n",
      "5  0.6      19       True\n",
      "6  0.7      15       True\n",
      "7  0.8      14       True\n",
      "8  0.9      13       True\n",
      "9  1.0      12       True\n"
     ]
    },
    {
     "data": {
      "image/png": "[encoded data removed]",
      "text/plain": [
       "<Figure size 640x480 with 1 Axes>"
      ]
     },
     "metadata": {},
     "output_type": "display_data"
    }
   ],
   "source": [
    "import pandas as pd\n",
    "import matplotlib.pyplot as plt\n",
    "\n",
    "lrs = [0.1*i for i in range(1,11)]\n",
    "records=[]\n",
    "for lr in lrs:\n",
    "    _,_,ep,conv = train_perceptron(X_and,y_and,w_init,lr=lr,activation='step')\n",
    "    records.append({'lr':lr,'epochs':ep,'converged':conv})\n",
    "\n",
    "df_lr = pd.DataFrame(records)\n",
    "print(df_lr)\n",
    "\n",
    "plt.plot(df_lr['lr'], df_lr['epochs'], marker='o')\n",
    "plt.xlabel(\"Learning Rate\")\n",
    "plt.ylabel(\"Epochs\")\n",
    "plt.title(\"LR vs Epochs (AND, Step)\")\n",
    "plt.show()\n"
   ]
  },
  {
   "cell_type": "code",
   "execution_count": 14,
   "id": "815b0c96",
   "metadata": {},
   "outputs": [
    {
     "name": "stdout",
     "output_type": "stream",
     "text": [
      "XOR attempt: epochs: 1000 converged: False\n"
     ]
    },
    {
     "data": {
      "image/png": "[encoded data removed]",
      "text/plain": [
       "<Figure size 640x480 with 1 Axes>"
      ]
     },
     "metadata": {},
     "output_type": "display_data"
    }
   ],
   "source": [
    "X_xor = X_and.copy()\n",
    "y_xor = np.array([0,1,1,0])\n",
    "\n",
    "_, hist, ep, conv = train_perceptron(X_xor,y_xor,w_init,lr=0.05,activation='step')\n",
    "print(\"XOR attempt:\", \"epochs:\",ep,\"converged:\",conv)\n",
    "\n",
    "plt.plot(hist)\n",
    "plt.xlabel(\"Epoch\")\n",
    "plt.ylabel(\"SSE\")\n",
    "plt.title(\"XOR with Single-Layer Perceptron\")\n",
    "plt.show()\n"
   ]
  },
  {
   "cell_type": "code",
   "execution_count": 15,
   "id": "5000863f",
   "metadata": {},
   "outputs": [
    {
     "name": "stdout",
     "output_type": "stream",
     "text": [
      "Final weights: [1.53331052 0.02911212 3.62046548 0.28416814 4.11475807] Epochs: 7718\n"
     ]
    },
    {
     "data": {
      "image/png": "[encoded data removed]",
      "text/plain": [
       "<Figure size 640x480 with 1 Axes>"
      ]
     },
     "metadata": {},
     "output_type": "display_data"
    }
   ],
   "source": [
    "cust_data = {\n",
    "    'Customer':[f\"C_{i}\" for i in range(1,11)],\n",
    "    'Candies':[20,16,27,19,24,22,15,18,21,16],\n",
    "    'Mangoes':[6,3,6,1,4,1,4,4,1,2],\n",
    "    'MilkPackets':[2,6,2,2,2,5,2,2,4,4],\n",
    "    'Payment':[386,289,393,110,280,167,271,274,148,198],\n",
    "    'HighValue':[1,1,1,0,1,0,1,1,0,0]\n",
    "}\n",
    "df = pd.DataFrame(cust_data)\n",
    "df.to_csv(\"data.csv\",index=False)\n",
    "\n",
    "X = df[['Candies','Mangoes','MilkPackets','Payment']].values.astype(float)\n",
    "y = df['HighValue'].values.astype(float)\n",
    "\n",
    "Xn = (X-X.mean(0))/X.std(0)\n",
    "Xb = np.hstack([np.ones((Xn.shape[0],1)),Xn])\n",
    "w = np.zeros(Xb.shape[1])\n",
    "\n",
    "hist=[]\n",
    "for epoch in range(10000):\n",
    "    outs=[]\n",
    "    for i in range(Xb.shape[0]):\n",
    "        net = np.dot(w,Xb[i])\n",
    "        out = 1/(1+np.exp(-net))\n",
    "        error = y[i]-out\n",
    "        w += 0.05*error*out*(1-out)*Xb[i]\n",
    "        outs.append(out)\n",
    "    curr = 0.5*np.sum((y-np.array(outs))**2)\n",
    "    hist.append(curr)\n",
    "    if curr<=0.002: break\n",
    "\n",
    "print(\"Final weights:\", w, \"Epochs:\", epoch)\n",
    "plt.plot(hist); plt.xlabel(\"Epoch\"); plt.ylabel(\"SSE\"); plt.title(\"Customer Dataset Training\"); plt.show()\n"
   ]
  },
  {
   "cell_type": "code",
   "execution_count": 16,
   "id": "5f5bd88e",
   "metadata": {},
   "outputs": [
    {
     "name": "stdout",
     "output_type": "stream",
     "text": [
      "Pseudo-inverse weights: [ 0.6        -0.09436819  0.21713405 -0.01342766  0.23416864]\n",
      "Predicted labels: [1 1 1 0 1 0 1 1 0 0]\n"
     ]
    }
   ],
   "source": [
    "wp = np.linalg.pinv(Xb).dot(y)\n",
    "yp = (Xb.dot(wp)>=0.5).astype(int)\n",
    "\n",
    "print(\"Pseudo-inverse weights:\", wp)\n",
    "print(\"Predicted labels:\", yp)\n"
   ]
  },
  {
   "cell_type": "code",
   "execution_count": 17,
   "id": "47cb830c",
   "metadata": {},
   "outputs": [
    {
     "name": "stdout",
     "output_type": "stream",
     "text": [
      "Initial W_hidden:\n",
      " [[-0.12545988  0.45071431  0.23199394]\n",
      " [ 0.09865848 -0.34398136 -0.34400548]]\n",
      "Initial W_output:\n",
      " [[-0.44191639  0.36617615  0.10111501]]\n",
      "Epoch   100  MSE=0.093395\n",
      "Epoch   200  MSE=0.091688\n",
      "Epoch   300  MSE=0.090583\n",
      "Epoch   400  MSE=0.089286\n",
      "Epoch   500  MSE=0.087673\n",
      "Epoch   600  MSE=0.085688\n",
      "Epoch   700  MSE=0.083300\n",
      "Epoch   800  MSE=0.080503\n",
      "Epoch   900  MSE=0.077315\n",
      "Epoch  1000  MSE=0.073774\n",
      "Epoch  1100  MSE=0.069933\n",
      "Epoch  1200  MSE=0.065851\n",
      "Epoch  1300  MSE=0.061592\n",
      "Epoch  1400  MSE=0.057223\n",
      "Epoch  1500  MSE=0.052809\n",
      "Epoch  1600  MSE=0.048419\n",
      "Epoch  1700  MSE=0.044121\n",
      "Epoch  1800  MSE=0.039982\n",
      "Epoch  1900  MSE=0.036061\n",
      "Epoch  2000  MSE=0.032405\n",
      "Epoch  2100  MSE=0.029048\n",
      "Epoch  2200  MSE=0.026004\n",
      "Epoch  2300  MSE=0.023276\n",
      "Epoch  2400  MSE=0.020853\n",
      "Epoch  2500  MSE=0.018714\n",
      "Epoch  2600  MSE=0.016835\n",
      "Epoch  2700  MSE=0.015188\n",
      "Epoch  2800  MSE=0.013747\n",
      "Epoch  2900  MSE=0.012485\n",
      "Epoch  3000  MSE=0.011379\n",
      "Epoch  3100  MSE=0.010408\n",
      "Epoch  3200  MSE=0.009553\n",
      "Epoch  3300  MSE=0.008798\n",
      "Epoch  3400  MSE=0.008130\n",
      "Epoch  3500  MSE=0.007536\n",
      "Epoch  3600  MSE=0.007007\n",
      "Epoch  3700  MSE=0.006533\n",
      "Epoch  3800  MSE=0.006109\n",
      "Epoch  3900  MSE=0.005726\n",
      "Epoch  4000  MSE=0.005381\n",
      "Epoch  4100  MSE=0.005068\n",
      "Epoch  4200  MSE=0.004784\n",
      "Epoch  4300  MSE=0.004525\n",
      "Epoch  4400  MSE=0.004289\n",
      "Epoch  4500  MSE=0.004072\n",
      "Epoch  4600  MSE=0.003873\n",
      "Epoch  4700  MSE=0.003690\n",
      "Epoch  4800  MSE=0.003521\n",
      "Epoch  4900  MSE=0.003364\n",
      "Epoch  5000  MSE=0.003219\n",
      "Epoch  5100  MSE=0.003084\n",
      "Epoch  5200  MSE=0.002959\n",
      "Epoch  5300  MSE=0.002842\n",
      "Epoch  5400  MSE=0.002733\n",
      "Epoch  5500  MSE=0.002631\n",
      "Epoch  5600  MSE=0.002535\n",
      "Epoch  5700  MSE=0.002445\n",
      "Epoch  5800  MSE=0.002361\n",
      "Epoch  5900  MSE=0.002281\n",
      "Epoch  6000  MSE=0.002206\n",
      "Epoch  6100  MSE=0.002135\n",
      "Epoch  6200  MSE=0.002069\n",
      "Epoch  6300  MSE=0.002005\n",
      "Epoch  6400  MSE=0.001945\n",
      "Epoch  6500  MSE=0.001888\n",
      "Epoch  6600  MSE=0.001834\n",
      "Epoch  6700  MSE=0.001783\n",
      "Epoch  6800  MSE=0.001734\n",
      "Epoch  6900  MSE=0.001688\n",
      "Epoch  7000  MSE=0.001643\n",
      "Epoch  7100  MSE=0.001601\n",
      "Epoch  7200  MSE=0.001560\n",
      "Epoch  7300  MSE=0.001522\n",
      "Epoch  7400  MSE=0.001485\n",
      "Epoch  7500  MSE=0.001449\n",
      "Epoch  7600  MSE=0.001415\n",
      "Epoch  7700  MSE=0.001383\n",
      "Epoch  7800  MSE=0.001352\n",
      "Epoch  7900  MSE=0.001322\n",
      "Epoch  8000  MSE=0.001293\n",
      "Epoch  8100  MSE=0.001265\n",
      "Epoch  8200  MSE=0.001238\n",
      "Epoch  8300  MSE=0.001213\n",
      "Epoch  8400  MSE=0.001188\n",
      "Epoch  8500  MSE=0.001164\n",
      "Epoch  8600  MSE=0.001141\n",
      "Epoch  8700  MSE=0.001119\n",
      "Epoch  8800  MSE=0.001098\n",
      "Epoch  8900  MSE=0.001077\n",
      "Epoch  9000  MSE=0.001057\n",
      "Epoch  9100  MSE=0.001038\n",
      "Epoch  9200  MSE=0.001019\n",
      "Epoch  9300  MSE=0.001001\n",
      "Epoch  9305  MSE=0.001000\n",
      "Training converged.\n",
      "\n",
      "Final weights (hidden layer, bias first):\n",
      "[[-3.13777489  2.3977684   2.31368009]\n",
      " [ 3.39178576 -2.46913998 -2.55134705]]\n",
      "\n",
      "Final weights (output layer, bias first):\n",
      "[[-0.8272045   5.33458015 -5.55189667]]\n",
      "\n",
      "Network outputs on AND inputs:\n",
      " Input: [0.0, 0.0]  -> Output: 0.002531  (target 0)\n",
      " Input: [0.0, 1.0]  -> Output: 0.043980  (target 0)\n",
      " Input: [1.0, 0.0]  -> Output: 0.044068  (target 0)\n",
      " Input: [1.0, 1.0]  -> Output: 0.935891  (target 1)\n"
     ]
    }
   ],
   "source": [
    "# and_backprop.py\n",
    "import numpy as np\n",
    "\n",
    "# reproducible results\n",
    "np.random.seed(42)\n",
    "\n",
    "# Sigmoid and derivative\n",
    "def sigmoid(x):\n",
    "    return 1.0 / (1.0 + np.exp(-x))\n",
    "\n",
    "def dsigmoid(y):\n",
    "    # derivative in terms of output y = sigmoid(x)\n",
    "    return y * (1.0 - y)\n",
    "\n",
    "# Network architecture: 2 inputs, 2 hidden neurons, 1 output\n",
    "n_input = 2\n",
    "n_hidden = 2\n",
    "n_output = 1\n",
    "\n",
    "# Learning rate\n",
    "alpha = 0.05\n",
    "\n",
    "# Training data: AND gate\n",
    "X = np.array([\n",
    "    [0.0, 0.0],\n",
    "    [0.0, 1.0],\n",
    "    [1.0, 0.0],\n",
    "    [1.0, 1.0]\n",
    "])\n",
    "T = np.array([[0.0], [0.0], [0.0], [1.0]])  # targets (column vector)\n",
    "\n",
    "# Initialize weights small random values (bias included)\n",
    "# We'll represent weights matrices with bias as first column: W_hidden shape (n_hidden, n_input+1)\n",
    "W_hidden = np.random.uniform(-1.0, 1.0, size=(n_hidden, n_input + 1)) * 0.5\n",
    "# W_output shape (n_output, n_hidden+1)\n",
    "W_output = np.random.uniform(-1.0, 1.0, size=(n_output, n_hidden + 1)) * 0.5\n",
    "\n",
    "# Training hyperparams\n",
    "max_epochs = 10000\n",
    "tol = 1e-3  # target MSE threshold\n",
    "\n",
    "def forward(x):\n",
    "    \"\"\"\n",
    "    Forward pass for one sample x (length n_input).\n",
    "    Returns: hidden_outputs (length n_hidden), final_output (length n_output)\n",
    "    \"\"\"\n",
    "    # add bias term to input\n",
    "    x_b = np.concatenate(([1.0], x))  # bias=1 at index0\n",
    "    # hidden net input\n",
    "    net_h = W_hidden.dot(x_b)  # shape (n_hidden,)\n",
    "    out_h = sigmoid(net_h)     # shape (n_hidden,)\n",
    "    # add bias to hidden outputs\n",
    "    h_b = np.concatenate(([1.0], out_h))  # shape (n_hidden+1,)\n",
    "    net_o = W_output.dot(h_b)  # shape (n_output,)\n",
    "    out_o = sigmoid(net_o)     # shape (n_output,)\n",
    "    return x_b, out_h, h_b, out_o\n",
    "\n",
    "def train():\n",
    "    global W_hidden, W_output\n",
    "    for epoch in range(1, max_epochs + 1):\n",
    "        mse_epoch = 0.0\n",
    "        # stochastic (online) - iterate samples in order\n",
    "        for i in range(X.shape[0]):\n",
    "            x = X[i]\n",
    "            t = T[i]  # shape (1,)\n",
    "\n",
    "            # forward pass\n",
    "            x_b, out_h, h_b, out_o = forward(x)  # out_o shape (1,)\n",
    "\n",
    "            # compute error and MSE contribution\n",
    "            err = t - out_o  # shape (1,)\n",
    "            mse_epoch += 0.5 * np.sum(err ** 2)\n",
    "\n",
    "            # backward pass (output layer)\n",
    "            delta_o = err * dsigmoid(out_o)  # shape (1,)\n",
    "\n",
    "            # update output weights: W_output += alpha * delta_o * h_b (h_b is vector); W_output shape (1, n_hidden+1)\n",
    "            # use outer product to update\n",
    "            W_output += alpha * np.outer(delta_o, h_b)\n",
    "\n",
    "            # hidden layer deltas (exclude bias weight from W_output when propagating)\n",
    "            # W_output[:,1:] shape (1, n_hidden)\n",
    "            delta_h = dsigmoid(out_h) * (W_output[:, 1:].T.dot(delta_o)).flatten()  # shape (n_hidden,)\n",
    "\n",
    "            # update hidden weights: W_hidden += alpha * delta_h[:,None] * x_b[None,:]\n",
    "            W_hidden += alpha * (delta_h.reshape(-1,1) @ x_b.reshape(1,-1))\n",
    "\n",
    "        mse_epoch /= X.shape[0]  # average MSE over samples\n",
    "        if epoch % 100 == 0 or mse_epoch <= tol:\n",
    "            print(f\"Epoch {epoch:5d}  MSE={mse_epoch:.6f}\")\n",
    "        if mse_epoch <= tol:\n",
    "            print(\"Training converged.\")\n",
    "            break\n",
    "    else:\n",
    "        print(\"Reached max epochs without reaching target MSE.\")\n",
    "    return epoch, mse_epoch\n",
    "\n",
    "def test_and_print():\n",
    "    print(\"\\nFinal weights (hidden layer, bias first):\")\n",
    "    print(W_hidden)\n",
    "    print(\"\\nFinal weights (output layer, bias first):\")\n",
    "    print(W_output)\n",
    "    print(\"\\nNetwork outputs on AND inputs:\")\n",
    "    for i in range(X.shape[0]):\n",
    "        x = X[i]\n",
    "        _, out_h, _, out_o = forward(x)\n",
    "        print(f\" Input: {x.tolist():}  -> Output: {out_o[0]:.6f}  (target {T[i,0]:.0f})\")\n",
    "\n",
    "if __name__ == \"__main__\":\n",
    "    print(\"Initial W_hidden:\\n\", W_hidden)\n",
    "    print(\"Initial W_output:\\n\", W_output)\n",
    "    epoch, final_mse = train()\n",
    "    test_and_print()\n"
   ]
  }
 ],
 "metadata": {
  "kernelspec": {
   "display_name": "Python 3",
   "language": "python",
   "name": "python3"
  },
  "language_info": {
   "codemirror_mode": {
    "name": "ipython",
    "version": 3
   },
   "file_extension": ".py",
   "mimetype": "text/x-python",
   "name": "python",
   "nbconvert_exporter": "python",
   "pygments_lexer": "ipython3",
   "version": "3.13.1"
  }
 },
 "nbformat": 4,
 "nbformat_minor": 5
}
